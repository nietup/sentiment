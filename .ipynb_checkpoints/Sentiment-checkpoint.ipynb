{
 "cells": [
  {
   "cell_type": "markdown",
   "metadata": {},
   "source": [
    "# Analiza sentymentu\n",
    "Implementacja wzorowana na:\n",
    "https://medium.com/@alyafey22/sentiment-classification-from-keras-to-the-browser-7eda0d87cdc6"
   ]
  },
  {
   "cell_type": "code",
   "execution_count": 336,
   "metadata": {},
   "outputs": [],
   "source": [
    "import matplotlib.pyplot as plt\n",
    "import tensorflow as tf\n",
    "import numpy as np\n",
    "from scipy.spatial.distance import cdist\n",
    "\n",
    "from tensorflow.python.keras.models import Sequential\n",
    "from tensorflow.python.keras.layers import Dense, GRU, Embedding, LSTM, RepeatVector, Dropout\n",
    "from tensorflow.python.keras.optimizers import Adam\n",
    "from tensorflow.python.keras.preprocessing.text import Tokenizer\n",
    "from tensorflow.python.keras.preprocessing.sequence import pad_sequences\n",
    "from tensorflow.python.keras.models import save_model\n",
    "from tensorflow.python.keras import backend as K\n",
    "\n",
    "import csv \n",
    "import pandas as pd \n",
    "from IPython.display import display, HTML\n",
    "import h5py\n",
    "from random import shuffle\n",
    "\n",
    "import re\n",
    "import sys\n",
    "import operator"
   ]
  },
  {
   "cell_type": "markdown",
   "metadata": {},
   "source": [
    "### Wczytywanie danych"
   ]
  },
  {
   "cell_type": "code",
   "execution_count": 337,
   "metadata": {},
   "outputs": [],
   "source": [
    "def load_dataset(file = 'dane_treningowe.csv'):\n",
    "    with open(file, 'r', encoding='utf-8') as f:\n",
    "        labels = []\n",
    "        text = []\n",
    "\n",
    "        lines = f.readlines()\n",
    "    shuffle(lines)\n",
    "    for line in lines:\n",
    "        data = line.split(',')\n",
    "        if len(data) == 2:\n",
    "            labels.append(data[1])\n",
    "            text.append(data[0].rstrip())\n",
    "    return text,labels"
   ]
  },
  {
   "cell_type": "code",
   "execution_count": 338,
   "metadata": {
    "scrolled": true
   },
   "outputs": [
    {
     "name": "stdout",
     "output_type": "stream",
     "text": [
      "@abigailjones7 that hurts abigail...i thought we were closer than that  ... douscherrr value:  0\n",
      "\n"
     ]
    }
   ],
   "source": [
    "if len(sys.argv) == 2:\n",
    "    filename = sys.argv[1]\n",
    "else:\n",
    "    filename = 'dane_treningowe.csv'\n",
    "    \n",
    "x_train_text, y_train = load_dataset(filename)\n",
    "# x_train_text = x_train_text[:5000]\n",
    "# y_train = y_train[:5000]\n",
    "data_text = x_train_text\n",
    "\n",
    "print(x_train_text[30], \"value: \", y_train[30])"
   ]
  },
  {
   "cell_type": "markdown",
   "metadata": {},
   "source": [
    "### Preprocessing\n",
    "Eliminujemy:\n",
    "* znaki interpunkcyjne (\".\", \"?\", itp), ponieważ nie niosą ze sobą wartości emocjonalnej\n",
    "\n",
    "Zostawiamy:\n",
    "* \"#\", \"@\" ponieważ słowa używane jako twitter handler/hasztag mogą mieć inne znaczenie niż same słowa"
   ]
  },
  {
   "cell_type": "code",
   "execution_count": 339,
   "metadata": {},
   "outputs": [],
   "source": [
    "def process(txt):\n",
    "    out = txt\n",
    "    out = re.sub(r'[.,\"!?:*_-]', '', txt)\n",
    "    out = re.sub('&quot;', '', txt)\n",
    "    out = out.split()\n",
    "    out = [word.lower() for word in out]\n",
    "    return out"
   ]
  },
  {
   "cell_type": "code",
   "execution_count": 340,
   "metadata": {},
   "outputs": [
    {
     "name": "stdout",
     "output_type": "stream",
     "text": [
      "['\"a\"', 'a!', 'a.', 'a,', 'a?', 'a:a', 'a*', 'a']\n"
     ]
    }
   ],
   "source": [
    "print(process('\"a\" a! a. a, a? a:a a* &quot;a&quot;'))"
   ]
  },
  {
   "cell_type": "code",
   "execution_count": 341,
   "metadata": {},
   "outputs": [],
   "source": [
    "def tokenize(thresh = 2):\n",
    "    count  = dict()\n",
    "    idx = 1\n",
    "    word_index = dict()\n",
    "    for txt in data_text:\n",
    "        words = process(txt)\n",
    "        for word in words:\n",
    "            if word in count.keys():\n",
    "                count[word] += 1\n",
    "            else:\n",
    "                count[word]  = 1\n",
    "    most_counts = [word for word in count.keys() if count[word]>=thresh]\n",
    "    \n",
    "    sorted_words = sorted(count.items(), key=operator.itemgetter(1), reverse=True)\n",
    "    \n",
    "    for word in most_counts:\n",
    "        word_index[word] = idx\n",
    "        idx+=1\n",
    "    return word_index, sorted_words"
   ]
  },
  {
   "cell_type": "code",
   "execution_count": 342,
   "metadata": {},
   "outputs": [],
   "source": [
    "def getMax(data):\n",
    "    max_tokens = 0 \n",
    "    for txt in data:\n",
    "        if max_tokens < len(txt.split()):\n",
    "            max_tokens = len(txt.split())\n",
    "    return max_tokens"
   ]
  },
  {
   "cell_type": "code",
   "execution_count": 343,
   "metadata": {},
   "outputs": [],
   "source": [
    "max_tokens = getMax(x_train_text)"
   ]
  },
  {
   "cell_type": "code",
   "execution_count": 344,
   "metadata": {},
   "outputs": [],
   "source": [
    "def create_sequences(data):\n",
    "    tokens = []\n",
    "    for txt in data:\n",
    "        words = process(txt)\n",
    "        seq = [0] * max_tokens\n",
    "        i = 0 \n",
    "        for word in words:\n",
    "            start = max_tokens-len(words)\n",
    "            if word.lower() in word_index.keys():\n",
    "                seq[i+start] = word_index[word]\n",
    "            i+=1\n",
    "        tokens.append(seq)        \n",
    "    return np.array(tokens)"
   ]
  },
  {
   "cell_type": "code",
   "execution_count": 345,
   "metadata": {},
   "outputs": [
    {
     "name": "stdout",
     "output_type": "stream",
     "text": [
      "length of the dictionary  68\n"
     ]
    }
   ],
   "source": [
    "word_index, sorted_words = tokenize()\n",
    "num_words = len(word_index) + 1\n",
    "print('length of the dictionary ', len(word_index))\n",
    "\n",
    "#print(sorted_words)"
   ]
  },
  {
   "cell_type": "code",
   "execution_count": 346,
   "metadata": {},
   "outputs": [],
   "source": [
    "x_train_tokens = create_sequences(x_train_text)"
   ]
  },
  {
   "cell_type": "markdown",
   "metadata": {},
   "source": [
    "### Funkcje metryki\n",
    "Funkcje na recall i precision wzięte z implementacji Keras <2.0"
   ]
  },
  {
   "cell_type": "code",
   "execution_count": 347,
   "metadata": {},
   "outputs": [],
   "source": [
    "def precision(y_true, y_pred):\n",
    "    \"\"\"Precision metric.\n",
    "\n",
    "    Only computes a batchwise average of precision.\n",
    "\n",
    "    Computes the precision, a metric for multilabel classification of\n",
    "    how many selected items are relevant.\n",
    "    \"\"\"\n",
    "    true_positives = K.sum(K.round(K.clip(y_true * y_pred, 0, 1)))\n",
    "    predicted_positives = K.sum(K.round(K.clip(y_pred, 0, 1)))\n",
    "    precision = true_positives / (predicted_positives + K.epsilon())\n",
    "    return precision\n",
    "\n",
    "\n",
    "def recall(y_true, y_pred):\n",
    "    \"\"\"Recall metric.\n",
    "\n",
    "    Only computes a batchwise average of recall.\n",
    "\n",
    "    Computes the recall, a metric for multilabel classification of\n",
    "    how many relevant items are selected.\n",
    "    \"\"\"\n",
    "    true_positives = K.sum(K.round(K.clip(y_true * y_pred, 0, 1)))\n",
    "    possible_positives = K.sum(K.round(K.clip(y_true, 0, 1)))\n",
    "    recall = true_positives / (possible_positives + K.epsilon())\n",
    "    return recall\n",
    "\n",
    "def f1(y_true, y_pred):\n",
    "    true_positives = K.sum(K.round(K.clip(y_true * y_pred, 0, 1)))\n",
    "    predicted_positives = K.sum(K.round(K.clip(y_pred, 0, 1)))\n",
    "    possible_positives = K.sum(K.round(K.clip(y_true, 0, 1)))\n",
    "    precision = true_positives / (predicted_positives + K.epsilon())\n",
    "    recall = true_positives / (possible_positives + K.epsilon())\n",
    "    \n",
    "    f1 = 2*precision*recall/(precision + recall)\n",
    "    \n",
    "    return f1"
   ]
  },
  {
   "cell_type": "markdown",
   "metadata": {},
   "source": [
    "## Definiowanie modeli"
   ]
  },
  {
   "cell_type": "code",
   "execution_count": 348,
   "metadata": {},
   "outputs": [
    {
     "name": "stdout",
     "output_type": "stream",
     "text": [
      "_________________________________________________________________\n",
      "Layer (type)                 Output Shape              Param #   \n",
      "=================================================================\n",
      "layer_embedding (Embedding)  (None, 26, 8)             552       \n",
      "_________________________________________________________________\n",
      "lstm_25 (LSTM)               (None, 26, 8)             544       \n",
      "_________________________________________________________________\n",
      "lstm_26 (LSTM)               (None, 26, 4)             208       \n",
      "_________________________________________________________________\n",
      "dropout_15 (Dropout)         (None, 26, 4)             0         \n",
      "_________________________________________________________________\n",
      "lstm_27 (LSTM)               (None, 26, 4)             144       \n",
      "_________________________________________________________________\n",
      "lstm_28 (LSTM)               (None, 2)                 56        \n",
      "_________________________________________________________________\n",
      "dense_17 (Dense)             (None, 1)                 3         \n",
      "=================================================================\n",
      "Total params: 1,507\n",
      "Trainable params: 1,507\n",
      "Non-trainable params: 0\n",
      "_________________________________________________________________\n",
      "None\n"
     ]
    }
   ],
   "source": [
    "model1 = Sequential()\n",
    "embedding_size = 8\n",
    "model1.add(Embedding(input_dim=num_words,\n",
    "                    output_dim=embedding_size,\n",
    "                    input_length=max_tokens,\n",
    "                    name='layer_embedding'))\n",
    "\n",
    "model1.add(LSTM(units=8,return_sequences=True))\n",
    "model1.add(LSTM(units=4,return_sequences=True))\n",
    "model1.add(Dropout(0.2))\n",
    "model1.add(LSTM(units=4 ,return_sequences=True))\n",
    "model1.add(LSTM(units=2, ))\n",
    "model1.add(Dense(1, activation='sigmoid'))\n",
    "\n",
    "optimizer = Adam(lr=1e-3)\n",
    "\n",
    "model1.compile(loss='binary_crossentropy', optimizer=optimizer, metrics=['accuracy', precision, recall, f1])\n",
    "\n",
    "print(model1.summary())"
   ]
  },
  {
   "cell_type": "code",
   "execution_count": 349,
   "metadata": {},
   "outputs": [
    {
     "name": "stdout",
     "output_type": "stream",
     "text": [
      "_________________________________________________________________\n",
      "Layer (type)                 Output Shape              Param #   \n",
      "=================================================================\n",
      "layer_embedding (Embedding)  (None, 26, 8)             552       \n",
      "_________________________________________________________________\n",
      "lstm_29 (LSTM)               (None, 26, 16)            1600      \n",
      "_________________________________________________________________\n",
      "lstm_30 (LSTM)               (None, 26, 8)             800       \n",
      "_________________________________________________________________\n",
      "dropout_16 (Dropout)         (None, 26, 8)             0         \n",
      "_________________________________________________________________\n",
      "lstm_31 (LSTM)               (None, 26, 8)             544       \n",
      "_________________________________________________________________\n",
      "lstm_32 (LSTM)               (None, 4)                 208       \n",
      "_________________________________________________________________\n",
      "dense_18 (Dense)             (None, 1)                 5         \n",
      "=================================================================\n",
      "Total params: 3,709\n",
      "Trainable params: 3,709\n",
      "Non-trainable params: 0\n",
      "_________________________________________________________________\n",
      "None\n"
     ]
    }
   ],
   "source": [
    "model2 = Sequential()\n",
    "embedding_size = 8\n",
    "model2.add(Embedding(input_dim=num_words,\n",
    "                    output_dim=embedding_size,\n",
    "                    input_length=max_tokens,\n",
    "                    name='layer_embedding'))\n",
    "\n",
    "model2.add(LSTM(units=16,return_sequences=True))\n",
    "model2.add(LSTM(units=8,return_sequences=True))\n",
    "model2.add(Dropout(0.2))\n",
    "model2.add(LSTM(units=8 ,return_sequences=True))\n",
    "model2.add(LSTM(units=4, ))\n",
    "model2.add(Dense(1, activation='sigmoid'))\n",
    "\n",
    "optimizer = Adam(lr=1e-3)\n",
    "\n",
    "model2.compile(loss='binary_crossentropy', optimizer=optimizer, metrics=['accuracy', precision, recall, f1])\n",
    "\n",
    "print(model2.summary())"
   ]
  },
  {
   "cell_type": "code",
   "execution_count": 350,
   "metadata": {},
   "outputs": [
    {
     "name": "stdout",
     "output_type": "stream",
     "text": [
      "_________________________________________________________________\n",
      "Layer (type)                 Output Shape              Param #   \n",
      "=================================================================\n",
      "layer_embedding (Embedding)  (None, 26, 8)             552       \n",
      "_________________________________________________________________\n",
      "lstm_33 (LSTM)               (None, 26, 32)            5248      \n",
      "_________________________________________________________________\n",
      "lstm_34 (LSTM)               (None, 26, 16)            3136      \n",
      "_________________________________________________________________\n",
      "dropout_17 (Dropout)         (None, 26, 16)            0         \n",
      "_________________________________________________________________\n",
      "lstm_35 (LSTM)               (None, 26, 16)            2112      \n",
      "_________________________________________________________________\n",
      "lstm_36 (LSTM)               (None, 4)                 336       \n",
      "_________________________________________________________________\n",
      "dense_19 (Dense)             (None, 1)                 5         \n",
      "=================================================================\n",
      "Total params: 11,389\n",
      "Trainable params: 11,389\n",
      "Non-trainable params: 0\n",
      "_________________________________________________________________\n",
      "None\n"
     ]
    }
   ],
   "source": [
    "model3 = Sequential()\n",
    "embedding_size = 8\n",
    "model3.add(Embedding(input_dim=num_words,\n",
    "                    output_dim=embedding_size,\n",
    "                    input_length=max_tokens,\n",
    "                    name='layer_embedding'))\n",
    "\n",
    "model3.add(LSTM(units=32,return_sequences=True))\n",
    "model3.add(LSTM(units=16,return_sequences=True))\n",
    "model3.add(Dropout(0.2))\n",
    "model3.add(LSTM(units=16 ,return_sequences=True))\n",
    "model3.add(LSTM(units=4, ))\n",
    "model3.add(Dense(1, activation='sigmoid'))\n",
    "\n",
    "optimizer = Adam(lr=1e-3)\n",
    "\n",
    "model3.compile(loss='binary_crossentropy', optimizer=optimizer, metrics=['accuracy', precision, recall, f1])\n",
    "\n",
    "print(model3.summary())"
   ]
  },
  {
   "cell_type": "code",
   "execution_count": 351,
   "metadata": {},
   "outputs": [
    {
     "name": "stdout",
     "output_type": "stream",
     "text": [
      "_________________________________________________________________\n",
      "Layer (type)                 Output Shape              Param #   \n",
      "=================================================================\n",
      "layer_embedding (Embedding)  (None, 26, 8)             552       \n",
      "_________________________________________________________________\n",
      "lstm_37 (LSTM)               (None, 26, 64)            18688     \n",
      "_________________________________________________________________\n",
      "lstm_38 (LSTM)               (None, 26, 32)            12416     \n",
      "_________________________________________________________________\n",
      "dropout_18 (Dropout)         (None, 26, 32)            0         \n",
      "_________________________________________________________________\n",
      "lstm_39 (LSTM)               (None, 26, 32)            8320      \n",
      "_________________________________________________________________\n",
      "lstm_40 (LSTM)               (None, 16)                3136      \n",
      "_________________________________________________________________\n",
      "dense_20 (Dense)             (None, 1)                 17        \n",
      "=================================================================\n",
      "Total params: 43,129\n",
      "Trainable params: 43,129\n",
      "Non-trainable params: 0\n",
      "_________________________________________________________________\n",
      "None\n"
     ]
    }
   ],
   "source": [
    "model4 = Sequential()\n",
    "embedding_size = 8\n",
    "model4.add(Embedding(input_dim=num_words,\n",
    "                    output_dim=embedding_size,\n",
    "                    input_length=max_tokens,\n",
    "                    name='layer_embedding'))\n",
    "\n",
    "model4.add(LSTM(units=64,return_sequences=True))\n",
    "model4.add(LSTM(units=32,return_sequences=True))\n",
    "model4.add(Dropout(0.2))\n",
    "model4.add(LSTM(units=32 ,return_sequences=True))\n",
    "model4.add(LSTM(units=16, ))\n",
    "model4.add(Dense(1, activation='sigmoid'))\n",
    "\n",
    "optimizer = Adam(lr=1e-3)\n",
    "\n",
    "model4.compile(loss='binary_crossentropy', optimizer=optimizer, metrics=['accuracy', precision, recall, f1])\n",
    "\n",
    "print(model4.summary())"
   ]
  },
  {
   "cell_type": "code",
   "execution_count": 352,
   "metadata": {},
   "outputs": [
    {
     "name": "stdout",
     "output_type": "stream",
     "text": [
      "_________________________________________________________________\n",
      "Layer (type)                 Output Shape              Param #   \n",
      "=================================================================\n",
      "layer_embedding (Embedding)  (None, 26, 8)             552       \n",
      "_________________________________________________________________\n",
      "lstm_41 (LSTM)               (None, 26, 128)           70144     \n",
      "_________________________________________________________________\n",
      "lstm_42 (LSTM)               (None, 26, 64)            49408     \n",
      "_________________________________________________________________\n",
      "dropout_19 (Dropout)         (None, 26, 64)            0         \n",
      "_________________________________________________________________\n",
      "lstm_43 (LSTM)               (None, 26, 64)            33024     \n",
      "_________________________________________________________________\n",
      "lstm_44 (LSTM)               (None, 32)                12416     \n",
      "_________________________________________________________________\n",
      "dense_21 (Dense)             (None, 1)                 33        \n",
      "=================================================================\n",
      "Total params: 165,577\n",
      "Trainable params: 165,577\n",
      "Non-trainable params: 0\n",
      "_________________________________________________________________\n",
      "None\n"
     ]
    }
   ],
   "source": [
    "model5 = Sequential()\n",
    "embedding_size = 8\n",
    "model5.add(Embedding(input_dim=num_words,\n",
    "                    output_dim=embedding_size,\n",
    "                    input_length=max_tokens,\n",
    "                    name='layer_embedding'))\n",
    "\n",
    "model5.add(LSTM(units=128,return_sequences=True))\n",
    "model5.add(LSTM(units=64,return_sequences=True))\n",
    "model5.add(Dropout(0.2))\n",
    "model5.add(LSTM(units=64 ,return_sequences=True))\n",
    "model5.add(LSTM(units=32, ))\n",
    "model5.add(Dense(1, activation='sigmoid'))\n",
    "\n",
    "optimizer = Adam(lr=1e-3)\n",
    "\n",
    "model5.compile(loss='binary_crossentropy', optimizer=optimizer, metrics=['accuracy', precision, recall, f1])\n",
    "\n",
    "print(model5.summary())"
   ]
  },
  {
   "cell_type": "markdown",
   "metadata": {},
   "source": [
    "## Trening i weryfikacja"
   ]
  },
  {
   "cell_type": "code",
   "execution_count": 353,
   "metadata": {},
   "outputs": [],
   "source": [
    "y_train_int = [int(i) for i in y_train]"
   ]
  },
  {
   "cell_type": "code",
   "execution_count": 354,
   "metadata": {},
   "outputs": [
    {
     "name": "stdout",
     "output_type": "stream",
     "text": [
      "Train on 47 samples, validate on 3 samples\n",
      "Epoch 1/5\n",
      "47/47 [==============================] - 12s 246ms/step - loss: 0.7244 - acc: 0.3404 - precision: 0.0000e+00 - recall: 0.0000e+00 - f1: nan - val_loss: 0.6687 - val_acc: 0.6667 - val_precision: 0.0000e+00 - val_recall: 0.0000e+00 - val_f1: nan\n",
      "Epoch 2/5\n",
      "47/47 [==============================] - 0s 3ms/step - loss: 0.7198 - acc: 0.3404 - precision: 0.0000e+00 - recall: 0.0000e+00 - f1: nan - val_loss: 0.6722 - val_acc: 0.6667 - val_precision: 0.0000e+00 - val_recall: 0.0000e+00 - val_f1: nan\n",
      "Epoch 3/5\n",
      "47/47 [==============================] - 0s 3ms/step - loss: 0.7155 - acc: 0.3404 - precision: 0.0000e+00 - recall: 0.0000e+00 - f1: nan - val_loss: 0.6759 - val_acc: 0.6667 - val_precision: 0.0000e+00 - val_recall: 0.0000e+00 - val_f1: nan\n",
      "Epoch 4/5\n",
      "47/47 [==============================] - 0s 3ms/step - loss: 0.7091 - acc: 0.3404 - precision: 0.0000e+00 - recall: 0.0000e+00 - f1: nan - val_loss: 0.6797 - val_acc: 0.6667 - val_precision: 0.0000e+00 - val_recall: 0.0000e+00 - val_f1: nan\n",
      "Epoch 5/5\n",
      "47/47 [==============================] - 0s 3ms/step - loss: 0.7053 - acc: 0.3404 - precision: 0.0000e+00 - recall: 0.0000e+00 - f1: nan - val_loss: 0.6836 - val_acc: 0.6667 - val_precision: 0.0000e+00 - val_recall: 0.0000e+00 - val_f1: nan\n"
     ]
    }
   ],
   "source": [
    "history1 = model1.fit(x_train_tokens, y_train_int, validation_split=0.05, epochs=5, batch_size=32)"
   ]
  },
  {
   "cell_type": "code",
   "execution_count": 355,
   "metadata": {},
   "outputs": [
    {
     "name": "stdout",
     "output_type": "stream",
     "text": [
      "Train on 47 samples, validate on 3 samples\n",
      "Epoch 1/5\n",
      "47/47 [==============================] - 11s 241ms/step - loss: 0.6728 - acc: 0.6596 - precision: 0.6596 - recall: 1.0000 - f1: 0.7949 - val_loss: 0.7291 - val_acc: 0.3333 - val_precision: 0.3333 - val_recall: 1.0000 - val_f1: 0.5000\n",
      "Epoch 2/5\n",
      "47/47 [==============================] - 0s 2ms/step - loss: 0.6679 - acc: 0.6596 - precision: 0.6596 - recall: 1.0000 - f1: 0.7867 - val_loss: 0.7371 - val_acc: 0.3333 - val_precision: 0.3333 - val_recall: 1.0000 - val_f1: 0.5000\n",
      "Epoch 3/5\n",
      "47/47 [==============================] - 0s 2ms/step - loss: 0.6618 - acc: 0.6596 - precision: 0.6596 - recall: 1.0000 - f1: 0.7941 - val_loss: 0.7443 - val_acc: 0.3333 - val_precision: 0.3333 - val_recall: 1.0000 - val_f1: 0.5000\n",
      "Epoch 4/5\n",
      "47/47 [==============================] - 0s 2ms/step - loss: 0.6575 - acc: 0.6596 - precision: 0.6596 - recall: 1.0000 - f1: 0.7938 - val_loss: 0.7522 - val_acc: 0.3333 - val_precision: 0.3333 - val_recall: 1.0000 - val_f1: 0.5000\n",
      "Epoch 5/5\n",
      "47/47 [==============================] - 0s 2ms/step - loss: 0.6566 - acc: 0.6596 - precision: 0.6596 - recall: 1.0000 - f1: 0.7938 - val_loss: 0.7611 - val_acc: 0.3333 - val_precision: 0.3333 - val_recall: 1.0000 - val_f1: 0.5000\n"
     ]
    }
   ],
   "source": [
    "history2 = model2.fit(x_train_tokens, y_train_int, validation_split=0.05, epochs=5, batch_size=32)"
   ]
  },
  {
   "cell_type": "code",
   "execution_count": 356,
   "metadata": {},
   "outputs": [
    {
     "name": "stdout",
     "output_type": "stream",
     "text": [
      "Train on 47 samples, validate on 3 samples\n",
      "Epoch 1/5\n",
      "47/47 [==============================] - 11s 239ms/step - loss: 0.6853 - acc: 0.6809 - precision: 0.6994 - recall: 0.8567 - f1: 0.7700 - val_loss: 0.7134 - val_acc: 0.3333 - val_precision: 0.3333 - val_recall: 1.0000 - val_f1: 0.5000\n",
      "Epoch 2/5\n",
      "47/47 [==============================] - 0s 2ms/step - loss: 0.6739 - acc: 0.6596 - precision: 0.6596 - recall: 1.0000 - f1: 0.7938 - val_loss: 0.7324 - val_acc: 0.3333 - val_precision: 0.3333 - val_recall: 1.0000 - val_f1: 0.5000\n",
      "Epoch 3/5\n",
      "47/47 [==============================] - 0s 2ms/step - loss: 0.6638 - acc: 0.6596 - precision: 0.6596 - recall: 1.0000 - f1: 0.7941 - val_loss: 0.7515 - val_acc: 0.3333 - val_precision: 0.3333 - val_recall: 1.0000 - val_f1: 0.5000\n",
      "Epoch 4/5\n",
      "47/47 [==============================] - 0s 2ms/step - loss: 0.6555 - acc: 0.6596 - precision: 0.6596 - recall: 1.0000 - f1: 0.7949 - val_loss: 0.7705 - val_acc: 0.3333 - val_precision: 0.3333 - val_recall: 1.0000 - val_f1: 0.5000\n",
      "Epoch 5/5\n",
      "47/47 [==============================] - 0s 2ms/step - loss: 0.6529 - acc: 0.6596 - precision: 0.6596 - recall: 1.0000 - f1: 0.7915 - val_loss: 0.7885 - val_acc: 0.3333 - val_precision: 0.3333 - val_recall: 1.0000 - val_f1: 0.5000\n"
     ]
    }
   ],
   "source": [
    "history3 = model3.fit(x_train_tokens, y_train_int, validation_split=0.05, epochs=5, batch_size=32)"
   ]
  },
  {
   "cell_type": "code",
   "execution_count": 357,
   "metadata": {},
   "outputs": [
    {
     "name": "stdout",
     "output_type": "stream",
     "text": [
      "Train on 47 samples, validate on 3 samples\n",
      "Epoch 1/5\n",
      "47/47 [==============================] - 12s 249ms/step - loss: 0.6927 - acc: 0.4894 - precision: 0.2340 - recall: 0.3191 - f1: nan - val_loss: 0.7194 - val_acc: 0.3333 - val_precision: 0.3333 - val_recall: 1.0000 - val_f1: 0.5000\n",
      "Epoch 2/5\n",
      "47/47 [==============================] - 0s 3ms/step - loss: 0.6762 - acc: 0.6596 - precision: 0.6596 - recall: 1.0000 - f1: 0.7867 - val_loss: 0.7508 - val_acc: 0.3333 - val_precision: 0.3333 - val_recall: 1.0000 - val_f1: 0.5000\n",
      "Epoch 3/5\n",
      "47/47 [==============================] - 0s 3ms/step - loss: 0.6586 - acc: 0.6596 - precision: 0.6596 - recall: 1.0000 - f1: 0.7941 - val_loss: 0.7840 - val_acc: 0.3333 - val_precision: 0.3333 - val_recall: 1.0000 - val_f1: 0.5000\n",
      "Epoch 4/5\n",
      "47/47 [==============================] - 0s 3ms/step - loss: 0.6426 - acc: 0.6596 - precision: 0.6596 - recall: 1.0000 - f1: 0.7910 - val_loss: 0.8265 - val_acc: 0.3333 - val_precision: 0.3333 - val_recall: 1.0000 - val_f1: 0.5000\n",
      "Epoch 5/5\n",
      "47/47 [==============================] - 0s 3ms/step - loss: 0.6385 - acc: 0.6596 - precision: 0.6596 - recall: 1.0000 - f1: 0.7910 - val_loss: 0.8839 - val_acc: 0.3333 - val_precision: 0.3333 - val_recall: 1.0000 - val_f1: 0.5000\n"
     ]
    }
   ],
   "source": [
    "history4 = model4.fit(x_train_tokens, y_train_int, validation_split=0.05, epochs=5, batch_size=32)"
   ]
  },
  {
   "cell_type": "code",
   "execution_count": 358,
   "metadata": {},
   "outputs": [
    {
     "name": "stdout",
     "output_type": "stream",
     "text": [
      "Train on 47 samples, validate on 3 samples\n",
      "Epoch 1/5\n",
      "47/47 [==============================] - 13s 269ms/step - loss: 0.6842 - acc: 0.6596 - precision: 0.6596 - recall: 1.0000 - f1: 0.7941 - val_loss: 0.7617 - val_acc: 0.3333 - val_precision: 0.3333 - val_recall: 1.0000 - val_f1: 0.5000\n",
      "Epoch 2/5\n",
      "47/47 [==============================] - 0s 8ms/step - loss: 0.6458 - acc: 0.6596 - precision: 0.6596 - recall: 1.0000 - f1: 0.7938 - val_loss: 0.9062 - val_acc: 0.3333 - val_precision: 0.3333 - val_recall: 1.0000 - val_f1: 0.5000\n",
      "Epoch 3/5\n",
      "47/47 [==============================] - 0s 10ms/step - loss: 0.6440 - acc: 0.6596 - precision: 0.6596 - recall: 1.0000 - f1: 0.7949 - val_loss: 0.9704 - val_acc: 0.3333 - val_precision: 0.3333 - val_recall: 1.0000 - val_f1: 0.5000\n",
      "Epoch 4/5\n",
      "47/47 [==============================] - 0s 10ms/step - loss: 0.6545 - acc: 0.6596 - precision: 0.6596 - recall: 1.0000 - f1: 0.7867 - val_loss: 0.9325 - val_acc: 0.3333 - val_precision: 0.3333 - val_recall: 1.0000 - val_f1: 0.5000\n",
      "Epoch 5/5\n",
      "47/47 [==============================] - 1s 11ms/step - loss: 0.6482 - acc: 0.6596 - precision: 0.6596 - recall: 1.0000 - f1: 0.7938 - val_loss: 0.8452 - val_acc: 0.3333 - val_precision: 0.3333 - val_recall: 1.0000 - val_f1: 0.5000\n"
     ]
    }
   ],
   "source": [
    "history5 = model5.fit(x_train_tokens, y_train_int, validation_split=0.05, epochs=5, batch_size=32)"
   ]
  },
  {
   "cell_type": "markdown",
   "metadata": {},
   "source": [
    "### Accuracy w zależności od liczby neuronów"
   ]
  },
  {
   "cell_type": "code",
   "execution_count": 368,
   "metadata": {},
   "outputs": [
    {
     "data": {
      "text/plain": [
       "[<matplotlib.lines.Line2D at 0x1c8b10d7320>]"
      ]
     },
     "execution_count": 368,
     "metadata": {},
     "output_type": "execute_result"
    },
    {
     "data": {
      "image/png": "[encoded data removed]",
      "text/plain": [
       "<matplotlib.figure.Figure at 0x1c8b6f9b208>"
      ]
     },
     "metadata": {},
     "output_type": "display_data"
    }
   ],
   "source": [
    "results = [history1.history['acc'][4], \n",
    "           history2.history['acc'][4], \n",
    "           history3.history['acc'][4], \n",
    "           history4.history['acc'][4], \n",
    "           history5.history['acc'][4]]\n",
    "\n",
    "neurons = [18, 36, 68, 144, 288]\n",
    "\n",
    "plt.xlabel('liczba neuronow')\n",
    "plt.ylabel('accuracy')\n",
    "plt.plot(neurons, results)"
   ]
  }
 ],
 "metadata": {
  "kernelspec": {
   "display_name": "Python 3",
   "language": "python",
   "name": "python3"
  },
  "language_info": {
   "codemirror_mode": {
    "name": "ipython",
    "version": 3
   },
   "file_extension": ".py",
   "mimetype": "text/x-python",
   "name": "python",
   "nbconvert_exporter": "python",
   "pygments_lexer": "ipython3",
   "version": "3.6.4"
  }
 },
 "nbformat": 4,
 "nbformat_minor": 2
}
